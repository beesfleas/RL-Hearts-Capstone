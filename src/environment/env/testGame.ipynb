{
 "cells": [
  {
   "cell_type": "code",
   "execution_count": 27,
   "metadata": {},
   "outputs": [],
   "source": [
    "%reload_ext autoreload\n",
    "%autoreload 2\n",
    "from cardUtils import *"
   ]
  },
  {
   "cell_type": "code",
   "execution_count": 30,
   "metadata": {},
   "outputs": [
    {
     "name": "stdout",
     "output_type": "stream",
     "text": [
      "Hand 1: A♡, 7♠, J♡, 6♢, 7♡, 3♢, 6♠, J♣, K♡, Q♡, 2♣, A♣, J♢\n",
      "Hand 2: 9♢, 3♠, 9♣, 2♡, 7♣, 10♠, 7♢, Q♠, 5♣, K♠, 10♣, 5♠, 4♢\n",
      "Hand 3: Q♢, 10♡, 3♣, 2♠, 4♡, K♢, 6♣, K♣, 9♠, Q♣, 4♣, 8♡, 8♢\n",
      "Hand 4: 10♢, 6♡, 5♢, J♠, 5♡, A♠, 3♡, 9♡, 8♠, 8♣, A♢, 2♢, 4♠\n",
      "no cards left\n"
     ]
    }
   ],
   "source": [
    "deck = Deck()\n",
    "deck.shuffle()\n",
    "\n",
    "hands = []\n",
    "\n",
    "for i in range(4):\n",
    "    hand = deck.deal_hand()\n",
    "    print(f\"Hand {i+1}: {hand}\")\n",
    "    hands.append(hand)\n",
    "hand = deck.deal_hand()"
   ]
  },
  {
   "cell_type": "code",
   "execution_count": 31,
   "metadata": {},
   "outputs": [
    {
     "name": "stdout",
     "output_type": "stream",
     "text": [
      "Hand 1: X, 7♠, J♡, 6♢, 7♡, 3♢, 6♠, J♣, K♡, Q♡, 2♣, A♣, J♢\n",
      "Hand 2: 9♢, 3♠, 9♣, 2♡, X, 10♠, 7♢, Q♠, 5♣, K♠, 10♣, 5♠, 4♢\n",
      "Hand 3: Q♢, 10♡, 3♣, 2♠, 4♡, K♢, 6♣, X, 9♠, Q♣, 4♣, 8♡, 8♢\n",
      "Hand 4: 10♢, 6♡, 5♢, J♠, 5♡, A♠, 3♡, 9♡, 8♠, 8♣, A♢, 2♢, X\n"
     ]
    }
   ],
   "source": [
    "hands[0].play_card(0)  \n",
    "hands[1].play_card(4)  \n",
    "hands[2].play_card(7)  \n",
    "hands[3].play_card(12) \n",
    "\n",
    "for i in range(4):\n",
    "    print(f\"Hand {i+1}: {hands[i]}\")"
   ]
  }
 ],
 "metadata": {
  "kernelspec": {
   "display_name": "heartsCapEnv",
   "language": "python",
   "name": "python3"
  },
  "language_info": {
   "codemirror_mode": {
    "name": "ipython",
    "version": 3
   },
   "file_extension": ".py",
   "mimetype": "text/x-python",
   "name": "python",
   "nbconvert_exporter": "python",
   "pygments_lexer": "ipython3",
   "version": "3.13.1"
  }
 },
 "nbformat": 4,
 "nbformat_minor": 2
}
